{
 "cells": [
  {
   "cell_type": "code",
   "execution_count": 1,
   "metadata": {},
   "outputs": [],
   "source": [
    "from scipy import stats\n",
    "import matplotlib.pyplot as plt"
   ]
  },
  {
   "cell_type": "code",
   "execution_count": 2,
   "metadata": {},
   "outputs": [
    {
     "data": {
      "text/html": [
       "<div>\n",
       "<style scoped>\n",
       "    .dataframe tbody tr th:only-of-type {\n",
       "        vertical-align: middle;\n",
       "    }\n",
       "\n",
       "    .dataframe tbody tr th {\n",
       "        vertical-align: top;\n",
       "    }\n",
       "\n",
       "    .dataframe thead th {\n",
       "        text-align: right;\n",
       "    }\n",
       "</style>\n",
       "<table border=\"1\" class=\"dataframe\">\n",
       "  <thead>\n",
       "    <tr style=\"text-align: right;\">\n",
       "      <th></th>\n",
       "      <th>state</th>\n",
       "      <th>deaths100k</th>\n",
       "    </tr>\n",
       "    <tr>\n",
       "      <th>date</th>\n",
       "      <th></th>\n",
       "      <th></th>\n",
       "    </tr>\n",
       "  </thead>\n",
       "  <tbody>\n",
       "    <tr>\n",
       "      <th>2020-08-02</th>\n",
       "      <td>Maine</td>\n",
       "      <td>9.150342</td>\n",
       "    </tr>\n",
       "    <tr>\n",
       "      <th>2020-08-02</th>\n",
       "      <td>Massachusetts</td>\n",
       "      <td>124.296658</td>\n",
       "    </tr>\n",
       "    <tr>\n",
       "      <th>2020-08-02</th>\n",
       "      <td>Michigan</td>\n",
       "      <td>64.685016</td>\n",
       "    </tr>\n",
       "    <tr>\n",
       "      <th>2020-08-02</th>\n",
       "      <td>Montana</td>\n",
       "      <td>5.707453</td>\n",
       "    </tr>\n",
       "    <tr>\n",
       "      <th>2020-08-02</th>\n",
       "      <td>Nevada</td>\n",
       "      <td>27.044085</td>\n",
       "    </tr>\n",
       "    <tr>\n",
       "      <th>2020-08-02</th>\n",
       "      <td>New Jersey</td>\n",
       "      <td>178.289363</td>\n",
       "    </tr>\n",
       "    <tr>\n",
       "      <th>2020-08-02</th>\n",
       "      <td>New York</td>\n",
       "      <td>166.555624</td>\n",
       "    </tr>\n",
       "    <tr>\n",
       "      <th>2020-08-02</th>\n",
       "      <td>North Carolina</td>\n",
       "      <td>19.031121</td>\n",
       "    </tr>\n",
       "    <tr>\n",
       "      <th>2020-08-02</th>\n",
       "      <td>Ohio</td>\n",
       "      <td>30.190519</td>\n",
       "    </tr>\n",
       "    <tr>\n",
       "      <th>2020-08-02</th>\n",
       "      <td>Pennsylvania</td>\n",
       "      <td>56.819296</td>\n",
       "    </tr>\n",
       "    <tr>\n",
       "      <th>2020-08-02</th>\n",
       "      <td>Rhode Island</td>\n",
       "      <td>95.057303</td>\n",
       "    </tr>\n",
       "    <tr>\n",
       "      <th>2020-08-02</th>\n",
       "      <td>Tennessee</td>\n",
       "      <td>15.541826</td>\n",
       "    </tr>\n",
       "    <tr>\n",
       "      <th>2020-08-02</th>\n",
       "      <td>Texas</td>\n",
       "      <td>25.917474</td>\n",
       "    </tr>\n",
       "    <tr>\n",
       "      <th>2020-08-02</th>\n",
       "      <td>Utah</td>\n",
       "      <td>9.763072</td>\n",
       "    </tr>\n",
       "    <tr>\n",
       "      <th>2020-08-02</th>\n",
       "      <td>Washington</td>\n",
       "      <td>22.062030</td>\n",
       "    </tr>\n",
       "    <tr>\n",
       "      <th>2020-08-02</th>\n",
       "      <td>Wisconsin</td>\n",
       "      <td>16.419250</td>\n",
       "    </tr>\n",
       "    <tr>\n",
       "      <th>2020-08-02</th>\n",
       "      <td>Maryland</td>\n",
       "      <td>58.140689</td>\n",
       "    </tr>\n",
       "    <tr>\n",
       "      <th>2020-08-02</th>\n",
       "      <td>Alabama</td>\n",
       "      <td>33.182513</td>\n",
       "    </tr>\n",
       "    <tr>\n",
       "      <th>2020-08-02</th>\n",
       "      <td>Arizona</td>\n",
       "      <td>51.781104</td>\n",
       "    </tr>\n",
       "    <tr>\n",
       "      <th>2020-08-02</th>\n",
       "      <td>Arkansas</td>\n",
       "      <td>15.375312</td>\n",
       "    </tr>\n",
       "    <tr>\n",
       "      <th>2020-08-02</th>\n",
       "      <td>California</td>\n",
       "      <td>23.787576</td>\n",
       "    </tr>\n",
       "    <tr>\n",
       "      <th>2020-08-02</th>\n",
       "      <td>Colorado</td>\n",
       "      <td>32.055646</td>\n",
       "    </tr>\n",
       "    <tr>\n",
       "      <th>2020-08-02</th>\n",
       "      <td>Connecticut</td>\n",
       "      <td>124.309768</td>\n",
       "    </tr>\n",
       "    <tr>\n",
       "      <th>2020-08-02</th>\n",
       "      <td>Delaware</td>\n",
       "      <td>60.076158</td>\n",
       "    </tr>\n",
       "    <tr>\n",
       "      <th>2020-08-02</th>\n",
       "      <td>District of Columbia</td>\n",
       "      <td>83.032353</td>\n",
       "    </tr>\n",
       "    <tr>\n",
       "      <th>2020-08-02</th>\n",
       "      <td>Florida</td>\n",
       "      <td>32.978335</td>\n",
       "    </tr>\n",
       "    <tr>\n",
       "      <th>2020-08-02</th>\n",
       "      <td>Georgia</td>\n",
       "      <td>35.394653</td>\n",
       "    </tr>\n",
       "    <tr>\n",
       "      <th>2020-08-02</th>\n",
       "      <td>Idaho</td>\n",
       "      <td>11.023662</td>\n",
       "    </tr>\n",
       "    <tr>\n",
       "      <th>2020-08-02</th>\n",
       "      <td>Illinois</td>\n",
       "      <td>60.906795</td>\n",
       "    </tr>\n",
       "    <tr>\n",
       "      <th>2020-08-02</th>\n",
       "      <td>Indiana</td>\n",
       "      <td>44.190482</td>\n",
       "    </tr>\n",
       "    <tr>\n",
       "      <th>2020-08-02</th>\n",
       "      <td>Iowa</td>\n",
       "      <td>27.828226</td>\n",
       "    </tr>\n",
       "    <tr>\n",
       "      <th>2020-08-02</th>\n",
       "      <td>Kansas</td>\n",
       "      <td>12.391387</td>\n",
       "    </tr>\n",
       "    <tr>\n",
       "      <th>2020-08-02</th>\n",
       "      <td>Kentucky</td>\n",
       "      <td>16.988710</td>\n",
       "    </tr>\n",
       "    <tr>\n",
       "      <th>2020-08-02</th>\n",
       "      <td>Louisiana</td>\n",
       "      <td>86.194398</td>\n",
       "    </tr>\n",
       "    <tr>\n",
       "      <th>2020-08-02</th>\n",
       "      <td>Minnesota</td>\n",
       "      <td>29.328155</td>\n",
       "    </tr>\n",
       "    <tr>\n",
       "      <th>2020-08-02</th>\n",
       "      <td>Mississippi</td>\n",
       "      <td>57.221597</td>\n",
       "    </tr>\n",
       "    <tr>\n",
       "      <th>2020-08-02</th>\n",
       "      <td>Missouri</td>\n",
       "      <td>21.360739</td>\n",
       "    </tr>\n",
       "    <tr>\n",
       "      <th>2020-08-02</th>\n",
       "      <td>Nebraska</td>\n",
       "      <td>17.473046</td>\n",
       "    </tr>\n",
       "    <tr>\n",
       "      <th>2020-08-02</th>\n",
       "      <td>New Hampshire</td>\n",
       "      <td>30.668282</td>\n",
       "    </tr>\n",
       "    <tr>\n",
       "      <th>2020-08-02</th>\n",
       "      <td>New Mexico</td>\n",
       "      <td>31.189954</td>\n",
       "    </tr>\n",
       "    <tr>\n",
       "      <th>2020-08-02</th>\n",
       "      <td>North Dakota</td>\n",
       "      <td>14.303298</td>\n",
       "    </tr>\n",
       "    <tr>\n",
       "      <th>2020-08-02</th>\n",
       "      <td>Oklahoma</td>\n",
       "      <td>13.899521</td>\n",
       "    </tr>\n",
       "    <tr>\n",
       "      <th>2020-08-02</th>\n",
       "      <td>Oregon</td>\n",
       "      <td>7.847810</td>\n",
       "    </tr>\n",
       "    <tr>\n",
       "      <th>2020-08-02</th>\n",
       "      <td>South Carolina</td>\n",
       "      <td>34.513473</td>\n",
       "    </tr>\n",
       "    <tr>\n",
       "      <th>2020-08-02</th>\n",
       "      <td>South Dakota</td>\n",
       "      <td>15.260117</td>\n",
       "    </tr>\n",
       "    <tr>\n",
       "      <th>2020-08-02</th>\n",
       "      <td>Vermont</td>\n",
       "      <td>9.134776</td>\n",
       "    </tr>\n",
       "    <tr>\n",
       "      <th>2020-08-02</th>\n",
       "      <td>Virginia</td>\n",
       "      <td>25.985532</td>\n",
       "    </tr>\n",
       "    <tr>\n",
       "      <th>2020-08-02</th>\n",
       "      <td>West Virginia</td>\n",
       "      <td>6.528482</td>\n",
       "    </tr>\n",
       "    <tr>\n",
       "      <th>2020-08-02</th>\n",
       "      <td>Wyoming</td>\n",
       "      <td>4.492371</td>\n",
       "    </tr>\n",
       "  </tbody>\n",
       "</table>\n",
       "</div>"
      ],
      "text/plain": [
       "                           state  deaths100k\n",
       "date                                        \n",
       "2020-08-02                 Maine    9.150342\n",
       "2020-08-02         Massachusetts  124.296658\n",
       "2020-08-02              Michigan   64.685016\n",
       "2020-08-02               Montana    5.707453\n",
       "2020-08-02                Nevada   27.044085\n",
       "2020-08-02            New Jersey  178.289363\n",
       "2020-08-02              New York  166.555624\n",
       "2020-08-02        North Carolina   19.031121\n",
       "2020-08-02                  Ohio   30.190519\n",
       "2020-08-02          Pennsylvania   56.819296\n",
       "2020-08-02          Rhode Island   95.057303\n",
       "2020-08-02             Tennessee   15.541826\n",
       "2020-08-02                 Texas   25.917474\n",
       "2020-08-02                  Utah    9.763072\n",
       "2020-08-02            Washington   22.062030\n",
       "2020-08-02             Wisconsin   16.419250\n",
       "2020-08-02              Maryland   58.140689\n",
       "2020-08-02               Alabama   33.182513\n",
       "2020-08-02               Arizona   51.781104\n",
       "2020-08-02              Arkansas   15.375312\n",
       "2020-08-02            California   23.787576\n",
       "2020-08-02              Colorado   32.055646\n",
       "2020-08-02           Connecticut  124.309768\n",
       "2020-08-02              Delaware   60.076158\n",
       "2020-08-02  District of Columbia   83.032353\n",
       "2020-08-02               Florida   32.978335\n",
       "2020-08-02               Georgia   35.394653\n",
       "2020-08-02                 Idaho   11.023662\n",
       "2020-08-02              Illinois   60.906795\n",
       "2020-08-02               Indiana   44.190482\n",
       "2020-08-02                  Iowa   27.828226\n",
       "2020-08-02                Kansas   12.391387\n",
       "2020-08-02              Kentucky   16.988710\n",
       "2020-08-02             Louisiana   86.194398\n",
       "2020-08-02             Minnesota   29.328155\n",
       "2020-08-02           Mississippi   57.221597\n",
       "2020-08-02              Missouri   21.360739\n",
       "2020-08-02              Nebraska   17.473046\n",
       "2020-08-02         New Hampshire   30.668282\n",
       "2020-08-02            New Mexico   31.189954\n",
       "2020-08-02          North Dakota   14.303298\n",
       "2020-08-02              Oklahoma   13.899521\n",
       "2020-08-02                Oregon    7.847810\n",
       "2020-08-02        South Carolina   34.513473\n",
       "2020-08-02          South Dakota   15.260117\n",
       "2020-08-02               Vermont    9.134776\n",
       "2020-08-02              Virginia   25.985532\n",
       "2020-08-02         West Virginia    6.528482\n",
       "2020-08-02               Wyoming    4.492371"
      ]
     },
     "execution_count": 2,
     "metadata": {},
     "output_type": "execute_result"
    }
   ],
   "source": [
    "import seaborn as sns\n",
    "import pandas\n",
    "sns.set()\n",
    "df = pandas.read_csv('data/covid/covid_mainland.csv', index_col='date', parse_dates=True)\n",
    "last_df = df.loc['2020-08-02'].copy()\n",
    "last_df[['state', 'deaths100k']]"
   ]
  },
  {
   "cell_type": "code",
   "execution_count": 3,
   "metadata": {},
   "outputs": [
    {
     "data": {
      "text/plain": [
       "(49, 13)"
      ]
     },
     "execution_count": 3,
     "metadata": {},
     "output_type": "execute_result"
    }
   ],
   "source": [
    "last_df.shape"
   ]
  },
  {
   "cell_type": "code",
   "execution_count": 4,
   "metadata": {},
   "outputs": [
    {
     "data": {
      "text/plain": [
       "(49, 13)"
      ]
     },
     "execution_count": 4,
     "metadata": {},
     "output_type": "execute_result"
    }
   ],
   "source": [
    "df.loc['2020-07-01'].shape"
   ]
  },
  {
   "cell_type": "code",
   "execution_count": 5,
   "metadata": {},
   "outputs": [
    {
     "data": {
      "text/html": [
       "<div>\n",
       "<style scoped>\n",
       "    .dataframe tbody tr th:only-of-type {\n",
       "        vertical-align: middle;\n",
       "    }\n",
       "\n",
       "    .dataframe tbody tr th {\n",
       "        vertical-align: top;\n",
       "    }\n",
       "\n",
       "    .dataframe thead th {\n",
       "        text-align: right;\n",
       "    }\n",
       "</style>\n",
       "<table border=\"1\" class=\"dataframe\">\n",
       "  <thead>\n",
       "    <tr style=\"text-align: right;\">\n",
       "      <th></th>\n",
       "      <th>state</th>\n",
       "      <th>deaths100k</th>\n",
       "    </tr>\n",
       "    <tr>\n",
       "      <th>date</th>\n",
       "      <th></th>\n",
       "      <th></th>\n",
       "    </tr>\n",
       "  </thead>\n",
       "  <tbody>\n",
       "    <tr>\n",
       "      <th>2020-08-02</th>\n",
       "      <td>Maine</td>\n",
       "      <td>9.150342</td>\n",
       "    </tr>\n",
       "    <tr>\n",
       "      <th>2020-08-02</th>\n",
       "      <td>Massachusetts</td>\n",
       "      <td>124.296658</td>\n",
       "    </tr>\n",
       "    <tr>\n",
       "      <th>2020-08-02</th>\n",
       "      <td>Michigan</td>\n",
       "      <td>64.685016</td>\n",
       "    </tr>\n",
       "    <tr>\n",
       "      <th>2020-08-02</th>\n",
       "      <td>Montana</td>\n",
       "      <td>5.707453</td>\n",
       "    </tr>\n",
       "    <tr>\n",
       "      <th>2020-08-02</th>\n",
       "      <td>Nevada</td>\n",
       "      <td>27.044085</td>\n",
       "    </tr>\n",
       "    <tr>\n",
       "      <th>2020-08-02</th>\n",
       "      <td>New Jersey</td>\n",
       "      <td>178.289363</td>\n",
       "    </tr>\n",
       "    <tr>\n",
       "      <th>2020-08-02</th>\n",
       "      <td>New York</td>\n",
       "      <td>166.555624</td>\n",
       "    </tr>\n",
       "    <tr>\n",
       "      <th>2020-08-02</th>\n",
       "      <td>North Carolina</td>\n",
       "      <td>19.031121</td>\n",
       "    </tr>\n",
       "    <tr>\n",
       "      <th>2020-08-02</th>\n",
       "      <td>Ohio</td>\n",
       "      <td>30.190519</td>\n",
       "    </tr>\n",
       "    <tr>\n",
       "      <th>2020-08-02</th>\n",
       "      <td>Pennsylvania</td>\n",
       "      <td>56.819296</td>\n",
       "    </tr>\n",
       "    <tr>\n",
       "      <th>2020-08-02</th>\n",
       "      <td>Rhode Island</td>\n",
       "      <td>95.057303</td>\n",
       "    </tr>\n",
       "    <tr>\n",
       "      <th>2020-08-02</th>\n",
       "      <td>Tennessee</td>\n",
       "      <td>15.541826</td>\n",
       "    </tr>\n",
       "    <tr>\n",
       "      <th>2020-08-02</th>\n",
       "      <td>Texas</td>\n",
       "      <td>25.917474</td>\n",
       "    </tr>\n",
       "    <tr>\n",
       "      <th>2020-08-02</th>\n",
       "      <td>Utah</td>\n",
       "      <td>9.763072</td>\n",
       "    </tr>\n",
       "    <tr>\n",
       "      <th>2020-08-02</th>\n",
       "      <td>Washington</td>\n",
       "      <td>22.062030</td>\n",
       "    </tr>\n",
       "    <tr>\n",
       "      <th>2020-08-02</th>\n",
       "      <td>Wisconsin</td>\n",
       "      <td>16.419250</td>\n",
       "    </tr>\n",
       "    <tr>\n",
       "      <th>2020-08-02</th>\n",
       "      <td>Maryland</td>\n",
       "      <td>58.140689</td>\n",
       "    </tr>\n",
       "    <tr>\n",
       "      <th>2020-08-02</th>\n",
       "      <td>Alabama</td>\n",
       "      <td>33.182513</td>\n",
       "    </tr>\n",
       "    <tr>\n",
       "      <th>2020-08-02</th>\n",
       "      <td>Arizona</td>\n",
       "      <td>51.781104</td>\n",
       "    </tr>\n",
       "    <tr>\n",
       "      <th>2020-08-02</th>\n",
       "      <td>Arkansas</td>\n",
       "      <td>15.375312</td>\n",
       "    </tr>\n",
       "    <tr>\n",
       "      <th>2020-08-02</th>\n",
       "      <td>California</td>\n",
       "      <td>23.787576</td>\n",
       "    </tr>\n",
       "    <tr>\n",
       "      <th>2020-08-02</th>\n",
       "      <td>Colorado</td>\n",
       "      <td>32.055646</td>\n",
       "    </tr>\n",
       "    <tr>\n",
       "      <th>2020-08-02</th>\n",
       "      <td>Connecticut</td>\n",
       "      <td>124.309768</td>\n",
       "    </tr>\n",
       "    <tr>\n",
       "      <th>2020-08-02</th>\n",
       "      <td>Delaware</td>\n",
       "      <td>60.076158</td>\n",
       "    </tr>\n",
       "    <tr>\n",
       "      <th>2020-08-02</th>\n",
       "      <td>District of Columbia</td>\n",
       "      <td>83.032353</td>\n",
       "    </tr>\n",
       "    <tr>\n",
       "      <th>2020-08-02</th>\n",
       "      <td>Florida</td>\n",
       "      <td>32.978335</td>\n",
       "    </tr>\n",
       "    <tr>\n",
       "      <th>2020-08-02</th>\n",
       "      <td>Georgia</td>\n",
       "      <td>35.394653</td>\n",
       "    </tr>\n",
       "    <tr>\n",
       "      <th>2020-08-02</th>\n",
       "      <td>Idaho</td>\n",
       "      <td>11.023662</td>\n",
       "    </tr>\n",
       "    <tr>\n",
       "      <th>2020-08-02</th>\n",
       "      <td>Illinois</td>\n",
       "      <td>60.906795</td>\n",
       "    </tr>\n",
       "    <tr>\n",
       "      <th>2020-08-02</th>\n",
       "      <td>Indiana</td>\n",
       "      <td>44.190482</td>\n",
       "    </tr>\n",
       "    <tr>\n",
       "      <th>2020-08-02</th>\n",
       "      <td>Iowa</td>\n",
       "      <td>27.828226</td>\n",
       "    </tr>\n",
       "    <tr>\n",
       "      <th>2020-08-02</th>\n",
       "      <td>Kansas</td>\n",
       "      <td>12.391387</td>\n",
       "    </tr>\n",
       "    <tr>\n",
       "      <th>2020-08-02</th>\n",
       "      <td>Kentucky</td>\n",
       "      <td>16.988710</td>\n",
       "    </tr>\n",
       "    <tr>\n",
       "      <th>2020-08-02</th>\n",
       "      <td>Louisiana</td>\n",
       "      <td>86.194398</td>\n",
       "    </tr>\n",
       "    <tr>\n",
       "      <th>2020-08-02</th>\n",
       "      <td>Minnesota</td>\n",
       "      <td>29.328155</td>\n",
       "    </tr>\n",
       "    <tr>\n",
       "      <th>2020-08-02</th>\n",
       "      <td>Mississippi</td>\n",
       "      <td>57.221597</td>\n",
       "    </tr>\n",
       "    <tr>\n",
       "      <th>2020-08-02</th>\n",
       "      <td>Missouri</td>\n",
       "      <td>21.360739</td>\n",
       "    </tr>\n",
       "    <tr>\n",
       "      <th>2020-08-02</th>\n",
       "      <td>Nebraska</td>\n",
       "      <td>17.473046</td>\n",
       "    </tr>\n",
       "    <tr>\n",
       "      <th>2020-08-02</th>\n",
       "      <td>New Hampshire</td>\n",
       "      <td>30.668282</td>\n",
       "    </tr>\n",
       "    <tr>\n",
       "      <th>2020-08-02</th>\n",
       "      <td>New Mexico</td>\n",
       "      <td>31.189954</td>\n",
       "    </tr>\n",
       "    <tr>\n",
       "      <th>2020-08-02</th>\n",
       "      <td>North Dakota</td>\n",
       "      <td>14.303298</td>\n",
       "    </tr>\n",
       "    <tr>\n",
       "      <th>2020-08-02</th>\n",
       "      <td>Oklahoma</td>\n",
       "      <td>13.899521</td>\n",
       "    </tr>\n",
       "    <tr>\n",
       "      <th>2020-08-02</th>\n",
       "      <td>Oregon</td>\n",
       "      <td>7.847810</td>\n",
       "    </tr>\n",
       "    <tr>\n",
       "      <th>2020-08-02</th>\n",
       "      <td>South Carolina</td>\n",
       "      <td>34.513473</td>\n",
       "    </tr>\n",
       "    <tr>\n",
       "      <th>2020-08-02</th>\n",
       "      <td>South Dakota</td>\n",
       "      <td>15.260117</td>\n",
       "    </tr>\n",
       "    <tr>\n",
       "      <th>2020-08-02</th>\n",
       "      <td>Vermont</td>\n",
       "      <td>9.134776</td>\n",
       "    </tr>\n",
       "    <tr>\n",
       "      <th>2020-08-02</th>\n",
       "      <td>Virginia</td>\n",
       "      <td>25.985532</td>\n",
       "    </tr>\n",
       "    <tr>\n",
       "      <th>2020-08-02</th>\n",
       "      <td>West Virginia</td>\n",
       "      <td>6.528482</td>\n",
       "    </tr>\n",
       "    <tr>\n",
       "      <th>2020-08-02</th>\n",
       "      <td>Wyoming</td>\n",
       "      <td>4.492371</td>\n",
       "    </tr>\n",
       "  </tbody>\n",
       "</table>\n",
       "</div>"
      ],
      "text/plain": [
       "                           state  deaths100k\n",
       "date                                        \n",
       "2020-08-02                 Maine    9.150342\n",
       "2020-08-02         Massachusetts  124.296658\n",
       "2020-08-02              Michigan   64.685016\n",
       "2020-08-02               Montana    5.707453\n",
       "2020-08-02                Nevada   27.044085\n",
       "2020-08-02            New Jersey  178.289363\n",
       "2020-08-02              New York  166.555624\n",
       "2020-08-02        North Carolina   19.031121\n",
       "2020-08-02                  Ohio   30.190519\n",
       "2020-08-02          Pennsylvania   56.819296\n",
       "2020-08-02          Rhode Island   95.057303\n",
       "2020-08-02             Tennessee   15.541826\n",
       "2020-08-02                 Texas   25.917474\n",
       "2020-08-02                  Utah    9.763072\n",
       "2020-08-02            Washington   22.062030\n",
       "2020-08-02             Wisconsin   16.419250\n",
       "2020-08-02              Maryland   58.140689\n",
       "2020-08-02               Alabama   33.182513\n",
       "2020-08-02               Arizona   51.781104\n",
       "2020-08-02              Arkansas   15.375312\n",
       "2020-08-02            California   23.787576\n",
       "2020-08-02              Colorado   32.055646\n",
       "2020-08-02           Connecticut  124.309768\n",
       "2020-08-02              Delaware   60.076158\n",
       "2020-08-02  District of Columbia   83.032353\n",
       "2020-08-02               Florida   32.978335\n",
       "2020-08-02               Georgia   35.394653\n",
       "2020-08-02                 Idaho   11.023662\n",
       "2020-08-02              Illinois   60.906795\n",
       "2020-08-02               Indiana   44.190482\n",
       "2020-08-02                  Iowa   27.828226\n",
       "2020-08-02                Kansas   12.391387\n",
       "2020-08-02              Kentucky   16.988710\n",
       "2020-08-02             Louisiana   86.194398\n",
       "2020-08-02             Minnesota   29.328155\n",
       "2020-08-02           Mississippi   57.221597\n",
       "2020-08-02              Missouri   21.360739\n",
       "2020-08-02              Nebraska   17.473046\n",
       "2020-08-02         New Hampshire   30.668282\n",
       "2020-08-02            New Mexico   31.189954\n",
       "2020-08-02          North Dakota   14.303298\n",
       "2020-08-02              Oklahoma   13.899521\n",
       "2020-08-02                Oregon    7.847810\n",
       "2020-08-02        South Carolina   34.513473\n",
       "2020-08-02          South Dakota   15.260117\n",
       "2020-08-02               Vermont    9.134776\n",
       "2020-08-02              Virginia   25.985532\n",
       "2020-08-02         West Virginia    6.528482\n",
       "2020-08-02               Wyoming    4.492371"
      ]
     },
     "execution_count": 5,
     "metadata": {},
     "output_type": "execute_result"
    }
   ],
   "source": [
    "last_df = df.loc['2020-08-02'].copy()\n",
    "last_df[['state', 'deaths100k']]"
   ]
  },
  {
   "cell_type": "code",
   "execution_count": 6,
   "metadata": {},
   "outputs": [],
   "source": [
    "last_df['deaths100k_rank'] = last_df['deaths100k'].rank()"
   ]
  },
  {
   "cell_type": "code",
   "execution_count": 7,
   "metadata": {},
   "outputs": [
    {
     "data": {
      "text/html": [
       "<div>\n",
       "<style scoped>\n",
       "    .dataframe tbody tr th:only-of-type {\n",
       "        vertical-align: middle;\n",
       "    }\n",
       "\n",
       "    .dataframe tbody tr th {\n",
       "        vertical-align: top;\n",
       "    }\n",
       "\n",
       "    .dataframe thead th {\n",
       "        text-align: right;\n",
       "    }\n",
       "</style>\n",
       "<table border=\"1\" class=\"dataframe\">\n",
       "  <thead>\n",
       "    <tr style=\"text-align: right;\">\n",
       "      <th></th>\n",
       "      <th>Unnamed: 0</th>\n",
       "      <th>GEO_ID</th>\n",
       "      <th>STATE</th>\n",
       "      <th>state</th>\n",
       "      <th>LSAD</th>\n",
       "      <th>CENSUSAREA</th>\n",
       "      <th>geometry</th>\n",
       "      <th>fips</th>\n",
       "      <th>cases</th>\n",
       "      <th>deaths</th>\n",
       "      <th>dtc100</th>\n",
       "      <th>population</th>\n",
       "      <th>deaths100k</th>\n",
       "      <th>deaths100k_rank</th>\n",
       "    </tr>\n",
       "    <tr>\n",
       "      <th>date</th>\n",
       "      <th></th>\n",
       "      <th></th>\n",
       "      <th></th>\n",
       "      <th></th>\n",
       "      <th></th>\n",
       "      <th></th>\n",
       "      <th></th>\n",
       "      <th></th>\n",
       "      <th></th>\n",
       "      <th></th>\n",
       "      <th></th>\n",
       "      <th></th>\n",
       "      <th></th>\n",
       "      <th></th>\n",
       "    </tr>\n",
       "  </thead>\n",
       "  <tbody>\n",
       "    <tr>\n",
       "      <th>2020-08-02</th>\n",
       "      <td>143</td>\n",
       "      <td>0400000US23</td>\n",
       "      <td>23</td>\n",
       "      <td>Maine</td>\n",
       "      <td>NaN</td>\n",
       "      <td>30842.923</td>\n",
       "      <td>MULTIPOLYGON (((-67.619761 44.519754, -67.6154...</td>\n",
       "      <td>23</td>\n",
       "      <td>3958</td>\n",
       "      <td>123</td>\n",
       "      <td>3.107630</td>\n",
       "      <td>1344212</td>\n",
       "      <td>9.150342</td>\n",
       "      <td>6.0</td>\n",
       "    </tr>\n",
       "    <tr>\n",
       "      <th>2020-08-02</th>\n",
       "      <td>327</td>\n",
       "      <td>0400000US25</td>\n",
       "      <td>25</td>\n",
       "      <td>Massachusetts</td>\n",
       "      <td>NaN</td>\n",
       "      <td>7800.058</td>\n",
       "      <td>MULTIPOLYGON (((-70.832044 41.606504, -70.8237...</td>\n",
       "      <td>25</td>\n",
       "      <td>118458</td>\n",
       "      <td>8638</td>\n",
       "      <td>7.292036</td>\n",
       "      <td>6949503</td>\n",
       "      <td>124.296658</td>\n",
       "      <td>46.0</td>\n",
       "    </tr>\n",
       "    <tr>\n",
       "      <th>2020-08-02</th>\n",
       "      <td>473</td>\n",
       "      <td>0400000US26</td>\n",
       "      <td>26</td>\n",
       "      <td>Michigan</td>\n",
       "      <td>NaN</td>\n",
       "      <td>56538.901</td>\n",
       "      <td>MULTIPOLYGON (((-88.684434 48.115785, -88.6756...</td>\n",
       "      <td>26</td>\n",
       "      <td>91857</td>\n",
       "      <td>6460</td>\n",
       "      <td>7.032670</td>\n",
       "      <td>9986857</td>\n",
       "      <td>64.685016</td>\n",
       "      <td>42.0</td>\n",
       "    </tr>\n",
       "    <tr>\n",
       "      <th>2020-08-02</th>\n",
       "      <td>616</td>\n",
       "      <td>0400000US30</td>\n",
       "      <td>30</td>\n",
       "      <td>Montana</td>\n",
       "      <td>NaN</td>\n",
       "      <td>145545.801</td>\n",
       "      <td>POLYGON ((-104.057698 44.997431, -104.250145 4...</td>\n",
       "      <td>30</td>\n",
       "      <td>4193</td>\n",
       "      <td>61</td>\n",
       "      <td>1.454806</td>\n",
       "      <td>1068778</td>\n",
       "      <td>5.707453</td>\n",
       "      <td>2.0</td>\n",
       "    </tr>\n",
       "    <tr>\n",
       "      <th>2020-08-02</th>\n",
       "      <td>767</td>\n",
       "      <td>0400000US32</td>\n",
       "      <td>32</td>\n",
       "      <td>Nevada</td>\n",
       "      <td>NaN</td>\n",
       "      <td>109781.180</td>\n",
       "      <td>POLYGON ((-114.0506 37.000396, -114.049995 36....</td>\n",
       "      <td>32</td>\n",
       "      <td>50270</td>\n",
       "      <td>833</td>\n",
       "      <td>1.657052</td>\n",
       "      <td>3080156</td>\n",
       "      <td>27.044085</td>\n",
       "      <td>24.0</td>\n",
       "    </tr>\n",
       "  </tbody>\n",
       "</table>\n",
       "</div>"
      ],
      "text/plain": [
       "            Unnamed: 0       GEO_ID  STATE          state  LSAD  CENSUSAREA  \\\n",
       "date                                                                          \n",
       "2020-08-02         143  0400000US23     23          Maine   NaN   30842.923   \n",
       "2020-08-02         327  0400000US25     25  Massachusetts   NaN    7800.058   \n",
       "2020-08-02         473  0400000US26     26       Michigan   NaN   56538.901   \n",
       "2020-08-02         616  0400000US30     30        Montana   NaN  145545.801   \n",
       "2020-08-02         767  0400000US32     32         Nevada   NaN  109781.180   \n",
       "\n",
       "                                                     geometry  fips   cases  \\\n",
       "date                                                                          \n",
       "2020-08-02  MULTIPOLYGON (((-67.619761 44.519754, -67.6154...    23    3958   \n",
       "2020-08-02  MULTIPOLYGON (((-70.832044 41.606504, -70.8237...    25  118458   \n",
       "2020-08-02  MULTIPOLYGON (((-88.684434 48.115785, -88.6756...    26   91857   \n",
       "2020-08-02  POLYGON ((-104.057698 44.997431, -104.250145 4...    30    4193   \n",
       "2020-08-02  POLYGON ((-114.0506 37.000396, -114.049995 36....    32   50270   \n",
       "\n",
       "            deaths    dtc100  population  deaths100k  deaths100k_rank  \n",
       "date                                                                   \n",
       "2020-08-02     123  3.107630     1344212    9.150342              6.0  \n",
       "2020-08-02    8638  7.292036     6949503  124.296658             46.0  \n",
       "2020-08-02    6460  7.032670     9986857   64.685016             42.0  \n",
       "2020-08-02      61  1.454806     1068778    5.707453              2.0  \n",
       "2020-08-02     833  1.657052     3080156   27.044085             24.0  "
      ]
     },
     "execution_count": 7,
     "metadata": {},
     "output_type": "execute_result"
    }
   ],
   "source": [
    "last_df.head()"
   ]
  },
  {
   "cell_type": "code",
   "execution_count": 8,
   "metadata": {},
   "outputs": [
    {
     "data": {
      "text/html": [
       "<div>\n",
       "<style scoped>\n",
       "    .dataframe tbody tr th:only-of-type {\n",
       "        vertical-align: middle;\n",
       "    }\n",
       "\n",
       "    .dataframe tbody tr th {\n",
       "        vertical-align: top;\n",
       "    }\n",
       "\n",
       "    .dataframe thead th {\n",
       "        text-align: right;\n",
       "    }\n",
       "</style>\n",
       "<table border=\"1\" class=\"dataframe\">\n",
       "  <thead>\n",
       "    <tr style=\"text-align: right;\">\n",
       "      <th></th>\n",
       "      <th>state</th>\n",
       "      <th>deaths100k</th>\n",
       "      <th>deaths100k_rank</th>\n",
       "    </tr>\n",
       "    <tr>\n",
       "      <th>date</th>\n",
       "      <th></th>\n",
       "      <th></th>\n",
       "      <th></th>\n",
       "    </tr>\n",
       "  </thead>\n",
       "  <tbody>\n",
       "    <tr>\n",
       "      <th>2020-08-02</th>\n",
       "      <td>Wyoming</td>\n",
       "      <td>4.492371</td>\n",
       "      <td>1.0</td>\n",
       "    </tr>\n",
       "    <tr>\n",
       "      <th>2020-08-02</th>\n",
       "      <td>Montana</td>\n",
       "      <td>5.707453</td>\n",
       "      <td>2.0</td>\n",
       "    </tr>\n",
       "    <tr>\n",
       "      <th>2020-08-02</th>\n",
       "      <td>West Virginia</td>\n",
       "      <td>6.528482</td>\n",
       "      <td>3.0</td>\n",
       "    </tr>\n",
       "    <tr>\n",
       "      <th>2020-08-02</th>\n",
       "      <td>Oregon</td>\n",
       "      <td>7.847810</td>\n",
       "      <td>4.0</td>\n",
       "    </tr>\n",
       "    <tr>\n",
       "      <th>2020-08-02</th>\n",
       "      <td>Vermont</td>\n",
       "      <td>9.134776</td>\n",
       "      <td>5.0</td>\n",
       "    </tr>\n",
       "    <tr>\n",
       "      <th>2020-08-02</th>\n",
       "      <td>Maine</td>\n",
       "      <td>9.150342</td>\n",
       "      <td>6.0</td>\n",
       "    </tr>\n",
       "    <tr>\n",
       "      <th>2020-08-02</th>\n",
       "      <td>Utah</td>\n",
       "      <td>9.763072</td>\n",
       "      <td>7.0</td>\n",
       "    </tr>\n",
       "    <tr>\n",
       "      <th>2020-08-02</th>\n",
       "      <td>Idaho</td>\n",
       "      <td>11.023662</td>\n",
       "      <td>8.0</td>\n",
       "    </tr>\n",
       "    <tr>\n",
       "      <th>2020-08-02</th>\n",
       "      <td>Kansas</td>\n",
       "      <td>12.391387</td>\n",
       "      <td>9.0</td>\n",
       "    </tr>\n",
       "    <tr>\n",
       "      <th>2020-08-02</th>\n",
       "      <td>Oklahoma</td>\n",
       "      <td>13.899521</td>\n",
       "      <td>10.0</td>\n",
       "    </tr>\n",
       "    <tr>\n",
       "      <th>2020-08-02</th>\n",
       "      <td>North Dakota</td>\n",
       "      <td>14.303298</td>\n",
       "      <td>11.0</td>\n",
       "    </tr>\n",
       "    <tr>\n",
       "      <th>2020-08-02</th>\n",
       "      <td>South Dakota</td>\n",
       "      <td>15.260117</td>\n",
       "      <td>12.0</td>\n",
       "    </tr>\n",
       "    <tr>\n",
       "      <th>2020-08-02</th>\n",
       "      <td>Arkansas</td>\n",
       "      <td>15.375312</td>\n",
       "      <td>13.0</td>\n",
       "    </tr>\n",
       "    <tr>\n",
       "      <th>2020-08-02</th>\n",
       "      <td>Tennessee</td>\n",
       "      <td>15.541826</td>\n",
       "      <td>14.0</td>\n",
       "    </tr>\n",
       "    <tr>\n",
       "      <th>2020-08-02</th>\n",
       "      <td>Wisconsin</td>\n",
       "      <td>16.419250</td>\n",
       "      <td>15.0</td>\n",
       "    </tr>\n",
       "    <tr>\n",
       "      <th>2020-08-02</th>\n",
       "      <td>Kentucky</td>\n",
       "      <td>16.988710</td>\n",
       "      <td>16.0</td>\n",
       "    </tr>\n",
       "    <tr>\n",
       "      <th>2020-08-02</th>\n",
       "      <td>Nebraska</td>\n",
       "      <td>17.473046</td>\n",
       "      <td>17.0</td>\n",
       "    </tr>\n",
       "    <tr>\n",
       "      <th>2020-08-02</th>\n",
       "      <td>North Carolina</td>\n",
       "      <td>19.031121</td>\n",
       "      <td>18.0</td>\n",
       "    </tr>\n",
       "    <tr>\n",
       "      <th>2020-08-02</th>\n",
       "      <td>Missouri</td>\n",
       "      <td>21.360739</td>\n",
       "      <td>19.0</td>\n",
       "    </tr>\n",
       "    <tr>\n",
       "      <th>2020-08-02</th>\n",
       "      <td>Washington</td>\n",
       "      <td>22.062030</td>\n",
       "      <td>20.0</td>\n",
       "    </tr>\n",
       "    <tr>\n",
       "      <th>2020-08-02</th>\n",
       "      <td>California</td>\n",
       "      <td>23.787576</td>\n",
       "      <td>21.0</td>\n",
       "    </tr>\n",
       "    <tr>\n",
       "      <th>2020-08-02</th>\n",
       "      <td>Texas</td>\n",
       "      <td>25.917474</td>\n",
       "      <td>22.0</td>\n",
       "    </tr>\n",
       "    <tr>\n",
       "      <th>2020-08-02</th>\n",
       "      <td>Virginia</td>\n",
       "      <td>25.985532</td>\n",
       "      <td>23.0</td>\n",
       "    </tr>\n",
       "    <tr>\n",
       "      <th>2020-08-02</th>\n",
       "      <td>Nevada</td>\n",
       "      <td>27.044085</td>\n",
       "      <td>24.0</td>\n",
       "    </tr>\n",
       "    <tr>\n",
       "      <th>2020-08-02</th>\n",
       "      <td>Iowa</td>\n",
       "      <td>27.828226</td>\n",
       "      <td>25.0</td>\n",
       "    </tr>\n",
       "    <tr>\n",
       "      <th>2020-08-02</th>\n",
       "      <td>Minnesota</td>\n",
       "      <td>29.328155</td>\n",
       "      <td>26.0</td>\n",
       "    </tr>\n",
       "    <tr>\n",
       "      <th>2020-08-02</th>\n",
       "      <td>Ohio</td>\n",
       "      <td>30.190519</td>\n",
       "      <td>27.0</td>\n",
       "    </tr>\n",
       "    <tr>\n",
       "      <th>2020-08-02</th>\n",
       "      <td>New Hampshire</td>\n",
       "      <td>30.668282</td>\n",
       "      <td>28.0</td>\n",
       "    </tr>\n",
       "    <tr>\n",
       "      <th>2020-08-02</th>\n",
       "      <td>New Mexico</td>\n",
       "      <td>31.189954</td>\n",
       "      <td>29.0</td>\n",
       "    </tr>\n",
       "    <tr>\n",
       "      <th>2020-08-02</th>\n",
       "      <td>Colorado</td>\n",
       "      <td>32.055646</td>\n",
       "      <td>30.0</td>\n",
       "    </tr>\n",
       "    <tr>\n",
       "      <th>2020-08-02</th>\n",
       "      <td>Florida</td>\n",
       "      <td>32.978335</td>\n",
       "      <td>31.0</td>\n",
       "    </tr>\n",
       "    <tr>\n",
       "      <th>2020-08-02</th>\n",
       "      <td>Alabama</td>\n",
       "      <td>33.182513</td>\n",
       "      <td>32.0</td>\n",
       "    </tr>\n",
       "    <tr>\n",
       "      <th>2020-08-02</th>\n",
       "      <td>South Carolina</td>\n",
       "      <td>34.513473</td>\n",
       "      <td>33.0</td>\n",
       "    </tr>\n",
       "    <tr>\n",
       "      <th>2020-08-02</th>\n",
       "      <td>Georgia</td>\n",
       "      <td>35.394653</td>\n",
       "      <td>34.0</td>\n",
       "    </tr>\n",
       "    <tr>\n",
       "      <th>2020-08-02</th>\n",
       "      <td>Indiana</td>\n",
       "      <td>44.190482</td>\n",
       "      <td>35.0</td>\n",
       "    </tr>\n",
       "    <tr>\n",
       "      <th>2020-08-02</th>\n",
       "      <td>Arizona</td>\n",
       "      <td>51.781104</td>\n",
       "      <td>36.0</td>\n",
       "    </tr>\n",
       "    <tr>\n",
       "      <th>2020-08-02</th>\n",
       "      <td>Pennsylvania</td>\n",
       "      <td>56.819296</td>\n",
       "      <td>37.0</td>\n",
       "    </tr>\n",
       "    <tr>\n",
       "      <th>2020-08-02</th>\n",
       "      <td>Mississippi</td>\n",
       "      <td>57.221597</td>\n",
       "      <td>38.0</td>\n",
       "    </tr>\n",
       "    <tr>\n",
       "      <th>2020-08-02</th>\n",
       "      <td>Maryland</td>\n",
       "      <td>58.140689</td>\n",
       "      <td>39.0</td>\n",
       "    </tr>\n",
       "    <tr>\n",
       "      <th>2020-08-02</th>\n",
       "      <td>Delaware</td>\n",
       "      <td>60.076158</td>\n",
       "      <td>40.0</td>\n",
       "    </tr>\n",
       "    <tr>\n",
       "      <th>2020-08-02</th>\n",
       "      <td>Illinois</td>\n",
       "      <td>60.906795</td>\n",
       "      <td>41.0</td>\n",
       "    </tr>\n",
       "    <tr>\n",
       "      <th>2020-08-02</th>\n",
       "      <td>Michigan</td>\n",
       "      <td>64.685016</td>\n",
       "      <td>42.0</td>\n",
       "    </tr>\n",
       "    <tr>\n",
       "      <th>2020-08-02</th>\n",
       "      <td>District of Columbia</td>\n",
       "      <td>83.032353</td>\n",
       "      <td>43.0</td>\n",
       "    </tr>\n",
       "    <tr>\n",
       "      <th>2020-08-02</th>\n",
       "      <td>Louisiana</td>\n",
       "      <td>86.194398</td>\n",
       "      <td>44.0</td>\n",
       "    </tr>\n",
       "    <tr>\n",
       "      <th>2020-08-02</th>\n",
       "      <td>Rhode Island</td>\n",
       "      <td>95.057303</td>\n",
       "      <td>45.0</td>\n",
       "    </tr>\n",
       "    <tr>\n",
       "      <th>2020-08-02</th>\n",
       "      <td>Massachusetts</td>\n",
       "      <td>124.296658</td>\n",
       "      <td>46.0</td>\n",
       "    </tr>\n",
       "    <tr>\n",
       "      <th>2020-08-02</th>\n",
       "      <td>Connecticut</td>\n",
       "      <td>124.309768</td>\n",
       "      <td>47.0</td>\n",
       "    </tr>\n",
       "    <tr>\n",
       "      <th>2020-08-02</th>\n",
       "      <td>New York</td>\n",
       "      <td>166.555624</td>\n",
       "      <td>48.0</td>\n",
       "    </tr>\n",
       "    <tr>\n",
       "      <th>2020-08-02</th>\n",
       "      <td>New Jersey</td>\n",
       "      <td>178.289363</td>\n",
       "      <td>49.0</td>\n",
       "    </tr>\n",
       "  </tbody>\n",
       "</table>\n",
       "</div>"
      ],
      "text/plain": [
       "                           state  deaths100k  deaths100k_rank\n",
       "date                                                         \n",
       "2020-08-02               Wyoming    4.492371              1.0\n",
       "2020-08-02               Montana    5.707453              2.0\n",
       "2020-08-02         West Virginia    6.528482              3.0\n",
       "2020-08-02                Oregon    7.847810              4.0\n",
       "2020-08-02               Vermont    9.134776              5.0\n",
       "2020-08-02                 Maine    9.150342              6.0\n",
       "2020-08-02                  Utah    9.763072              7.0\n",
       "2020-08-02                 Idaho   11.023662              8.0\n",
       "2020-08-02                Kansas   12.391387              9.0\n",
       "2020-08-02              Oklahoma   13.899521             10.0\n",
       "2020-08-02          North Dakota   14.303298             11.0\n",
       "2020-08-02          South Dakota   15.260117             12.0\n",
       "2020-08-02              Arkansas   15.375312             13.0\n",
       "2020-08-02             Tennessee   15.541826             14.0\n",
       "2020-08-02             Wisconsin   16.419250             15.0\n",
       "2020-08-02              Kentucky   16.988710             16.0\n",
       "2020-08-02              Nebraska   17.473046             17.0\n",
       "2020-08-02        North Carolina   19.031121             18.0\n",
       "2020-08-02              Missouri   21.360739             19.0\n",
       "2020-08-02            Washington   22.062030             20.0\n",
       "2020-08-02            California   23.787576             21.0\n",
       "2020-08-02                 Texas   25.917474             22.0\n",
       "2020-08-02              Virginia   25.985532             23.0\n",
       "2020-08-02                Nevada   27.044085             24.0\n",
       "2020-08-02                  Iowa   27.828226             25.0\n",
       "2020-08-02             Minnesota   29.328155             26.0\n",
       "2020-08-02                  Ohio   30.190519             27.0\n",
       "2020-08-02         New Hampshire   30.668282             28.0\n",
       "2020-08-02            New Mexico   31.189954             29.0\n",
       "2020-08-02              Colorado   32.055646             30.0\n",
       "2020-08-02               Florida   32.978335             31.0\n",
       "2020-08-02               Alabama   33.182513             32.0\n",
       "2020-08-02        South Carolina   34.513473             33.0\n",
       "2020-08-02               Georgia   35.394653             34.0\n",
       "2020-08-02               Indiana   44.190482             35.0\n",
       "2020-08-02               Arizona   51.781104             36.0\n",
       "2020-08-02          Pennsylvania   56.819296             37.0\n",
       "2020-08-02           Mississippi   57.221597             38.0\n",
       "2020-08-02              Maryland   58.140689             39.0\n",
       "2020-08-02              Delaware   60.076158             40.0\n",
       "2020-08-02              Illinois   60.906795             41.0\n",
       "2020-08-02              Michigan   64.685016             42.0\n",
       "2020-08-02  District of Columbia   83.032353             43.0\n",
       "2020-08-02             Louisiana   86.194398             44.0\n",
       "2020-08-02          Rhode Island   95.057303             45.0\n",
       "2020-08-02         Massachusetts  124.296658             46.0\n",
       "2020-08-02           Connecticut  124.309768             47.0\n",
       "2020-08-02              New York  166.555624             48.0\n",
       "2020-08-02            New Jersey  178.289363             49.0"
      ]
     },
     "execution_count": 8,
     "metadata": {},
     "output_type": "execute_result"
    }
   ],
   "source": [
    "last_df[['state', 'deaths100k', 'deaths100k_rank']].sort_values(by='deaths100k_rank')"
   ]
  },
  {
   "cell_type": "code",
   "execution_count": null,
   "metadata": {},
   "outputs": [],
   "source": []
  },
  {
   "cell_type": "code",
   "execution_count": null,
   "metadata": {},
   "outputs": [],
   "source": []
  },
  {
   "cell_type": "code",
   "execution_count": 9,
   "metadata": {},
   "outputs": [],
   "source": [
    "x = last_df.deaths100k"
   ]
  },
  {
   "cell_type": "code",
   "execution_count": 10,
   "metadata": {},
   "outputs": [
    {
     "data": {
      "text/plain": [
       "40.721945939022724"
      ]
     },
     "execution_count": 10,
     "metadata": {},
     "output_type": "execute_result"
    }
   ],
   "source": [
    "x.mean()"
   ]
  },
  {
   "cell_type": "code",
   "execution_count": 11,
   "metadata": {},
   "outputs": [
    {
     "data": {
      "text/plain": [
       "27.828225681205172"
      ]
     },
     "execution_count": 11,
     "metadata": {},
     "output_type": "execute_result"
    }
   ],
   "source": [
    "x.median()"
   ]
  },
  {
   "cell_type": "code",
   "execution_count": 12,
   "metadata": {},
   "outputs": [
    {
     "data": {
      "text/plain": [
       "0       4.492371\n",
       "1       5.707453\n",
       "2       6.528482\n",
       "3       7.847810\n",
       "4       9.134776\n",
       "5       9.150342\n",
       "6       9.763072\n",
       "7      11.023662\n",
       "8      12.391387\n",
       "9      13.899521\n",
       "10     14.303298\n",
       "11     15.260117\n",
       "12     15.375312\n",
       "13     15.541826\n",
       "14     16.419250\n",
       "15     16.988710\n",
       "16     17.473046\n",
       "17     19.031121\n",
       "18     21.360739\n",
       "19     22.062030\n",
       "20     23.787576\n",
       "21     25.917474\n",
       "22     25.985532\n",
       "23     27.044085\n",
       "24     27.828226\n",
       "25     29.328155\n",
       "26     30.190519\n",
       "27     30.668282\n",
       "28     31.189954\n",
       "29     32.055646\n",
       "30     32.978335\n",
       "31     33.182513\n",
       "32     34.513473\n",
       "33     35.394653\n",
       "34     44.190482\n",
       "35     51.781104\n",
       "36     56.819296\n",
       "37     57.221597\n",
       "38     58.140689\n",
       "39     60.076158\n",
       "40     60.906795\n",
       "41     64.685016\n",
       "42     83.032353\n",
       "43     86.194398\n",
       "44     95.057303\n",
       "45    124.296658\n",
       "46    124.309768\n",
       "47    166.555624\n",
       "48    178.289363\n",
       "dtype: float64"
      ]
     },
     "execution_count": 12,
     "metadata": {},
     "output_type": "execute_result"
    }
   ],
   "source": [
    "x.mode()"
   ]
  },
  {
   "cell_type": "code",
   "execution_count": 13,
   "metadata": {},
   "outputs": [
    {
     "data": {
      "text/plain": [
       "pandas.core.series.Series"
      ]
     },
     "execution_count": 13,
     "metadata": {},
     "output_type": "execute_result"
    }
   ],
   "source": [
    "type(x)"
   ]
  },
  {
   "cell_type": "code",
   "execution_count": 14,
   "metadata": {},
   "outputs": [
    {
     "data": {
      "text/plain": [
       "178.28936332143314"
      ]
     },
     "execution_count": 14,
     "metadata": {},
     "output_type": "execute_result"
    }
   ],
   "source": [
    "x.max()"
   ]
  },
  {
   "cell_type": "code",
   "execution_count": 15,
   "metadata": {},
   "outputs": [
    {
     "data": {
      "text/plain": [
       "4.492370744990575"
      ]
     },
     "execution_count": 15,
     "metadata": {},
     "output_type": "execute_result"
    }
   ],
   "source": [
    "x.min()"
   ]
  },
  {
   "cell_type": "code",
   "execution_count": 16,
   "metadata": {},
   "outputs": [
    {
     "data": {
      "text/plain": [
       "173.79699257644256"
      ]
     },
     "execution_count": 16,
     "metadata": {},
     "output_type": "execute_result"
    }
   ],
   "source": [
    "x.max()-x.min()"
   ]
  },
  {
   "cell_type": "code",
   "execution_count": 17,
   "metadata": {},
   "outputs": [
    {
     "data": {
      "text/plain": [
       "41.443984124401084"
      ]
     },
     "execution_count": 17,
     "metadata": {},
     "output_type": "execute_result"
    }
   ],
   "source": [
    "stats.iqr(x)"
   ]
  },
  {
   "cell_type": "code",
   "execution_count": 18,
   "metadata": {},
   "outputs": [
    {
     "data": {
      "text/plain": [
       "array([15.37531169, 56.81929581])"
      ]
     },
     "execution_count": 18,
     "metadata": {},
     "output_type": "execute_result"
    }
   ],
   "source": [
    "import numpy as np\n",
    "\n",
    "np.percentile(x, q=(25, 75))"
   ]
  },
  {
   "cell_type": "code",
   "execution_count": 19,
   "metadata": {},
   "outputs": [
    {
     "data": {
      "text/plain": [
       "41.443984124401084"
      ]
     },
     "execution_count": 19,
     "metadata": {},
     "output_type": "execute_result"
    }
   ],
   "source": [
    "q25, q75 = np.percentile(x, q=(25, 75))\n",
    "q75-q25"
   ]
  },
  {
   "cell_type": "markdown",
   "metadata": {},
   "source": [
    "### Skewness"
   ]
  },
  {
   "cell_type": "code",
   "execution_count": 20,
   "metadata": {},
   "outputs": [
    {
     "data": {
      "text/plain": [
       "0.0"
      ]
     },
     "execution_count": 20,
     "metadata": {},
     "output_type": "execute_result"
    }
   ],
   "source": [
    "stats.skew([1,2,3,4,5])"
   ]
  },
  {
   "cell_type": "code",
   "execution_count": 21,
   "metadata": {},
   "outputs": [
    {
     "data": {
      "text/plain": [
       "1.9170126312528537"
      ]
     },
     "execution_count": 21,
     "metadata": {},
     "output_type": "execute_result"
    }
   ],
   "source": [
    "stats.skew(x)"
   ]
  },
  {
   "cell_type": "markdown",
   "metadata": {},
   "source": [
    "## Bernoulli\n",
    "\n",
    "A Bermoulli random variable takes on only two values $X=0$ or $X=1$. Conventionally, $X=1$ is used to denote a *success* and $X=0$ a failure. You could think of the experiment, pick a random person from the population in Riverside County and ask if they are employed ($X=1$) or unemployed $X=0$.\n",
    "\n",
    "The Bernoulli distribution as a single parameter $p$, which is the probability of success. Note that $0 \\le p \\le 1.0$. \n",
    "\n",
    "### Probability Mass Function\n",
    "\n",
    "$$\n",
    "p(x;p) = \n",
    "\\begin{cases}\n",
    "1 - p& x=0 \\\\\n",
    "p& x=1\n",
    "\\end{cases}\n",
    "$$\n",
    "\n",
    "\n",
    "### Exepected Value\n",
    "$$\n",
    "E[X] = p\n",
    "$$\n",
    "\n",
    "### Variance\n",
    "$$\n",
    "V[X] = p (1-p)\n",
    "$$"
   ]
  },
  {
   "cell_type": "markdown",
   "metadata": {},
   "source": [
    "#### Example"
   ]
  },
  {
   "cell_type": "markdown",
   "metadata": {},
   "source": [
    "### Binomial\n",
    "Closely related to the Bernoulli distribution is the Binomial distribution. This is defined as the sum of $n$ independent and identically distributed Bernouli random variables with parameter $p$:\n",
    "\n",
    "$$\n",
    "Y = \\sum_{i=1}^n X_i\n",
    "$$\n",
    "where $X_i$ is the $i$th Bernoulli trial. The binomial is thus a count of the number of successes in $n$ independent trials where the probability of success on each trial is $p$."
   ]
  },
  {
   "cell_type": "markdown",
   "metadata": {},
   "source": [
    "#### Probabilty Mass Function\n",
    "\n",
    "$$\n",
    "p(x;n,p) = {n\\choose x} p^x (1-p)^{n-x} \\ x \\in \\{0,1, \\ldots, n\\}\n",
    "$$\n",
    "\n",
    "Note that there are two parameters in the mass function: $p$ and $n$, which are the probability of success on a single trial, and the number of trials, respectively.\n",
    "\n",
    "Given this definition, we see that the PMF has a domain of $[0,n]$."
   ]
  },
  {
   "cell_type": "markdown",
   "metadata": {},
   "source": [
    "#### Cumulative Distribution Function\n",
    "$$\n",
    "F(x;n,p) = \\sum_{k \\le x} {n\\choose k} p^k (1-p)^{n-k} \n",
    "$$"
   ]
  },
  {
   "cell_type": "markdown",
   "metadata": {},
   "source": [
    "#### Expected Value\n",
    "\n",
    "$$\n",
    "E[X] = np\n",
    "$$\n",
    "\n",
    "#### Variance\n",
    "$$\n",
    "V[X] = np(1-p)\n",
    "$$"
   ]
  },
  {
   "cell_type": "markdown",
   "metadata": {},
   "source": [
    "#### Example\n",
    "\n",
    "Let's extend our simple experiment we used to motivate the Bernoulli distribution to say we repeat the experiment 10 times, so that we randomly select 10 adults from Riverside county and ask about their employment status. At the time of writing (August 2020), the most recent data available for the county has the unemployment rate at 14.8 percent. So let's use this as our parameter $p=0.148$. Our experiment is completely defined by having $n=10$.\n",
    "\n",
    "In such a world, we can ask what would we expect as outcomes for our experiment?"
   ]
  },
  {
   "cell_type": "code",
   "execution_count": 22,
   "metadata": {},
   "outputs": [
    {
     "data": {
      "image/png": "[encoded data removed]",
      "text/plain": [
       "<Figure size 432x288 with 1 Axes>"
      ]
     },
     "metadata": {},
     "output_type": "display_data"
    }
   ],
   "source": [
    "fig, ax = plt.subplots(1, 1)\n",
    "from scipy.stats import binom\n",
    "import numpy as np\n",
    "\n",
    "n, p = 10, 0.148\n",
    "mean, var, skew, kurt = binom.stats(n, p, moments='mvsk')\n",
    "\n",
    "x = np.arange(0, n+1)\n",
    "pmf = binom.pmf(x, n, p)\n",
    "\n",
    "ax.plot(x, pmf, 'bo', ms=8, label='binom pmf')\n",
    "#ax.#xlabel('x')\n",
    "\n",
    "ax.vlines(x, 0, binom.pmf(x, n, p), colors='b', lw=5, alpha=0.5)\n",
    "_ = plt.xlabel('x')\n",
    "_ = plt.ylabel('p(x)')"
   ]
  },
  {
   "cell_type": "code",
   "execution_count": 23,
   "metadata": {},
   "outputs": [
    {
     "data": {
      "text/html": [
       "<div>\n",
       "<style scoped>\n",
       "    .dataframe tbody tr th:only-of-type {\n",
       "        vertical-align: middle;\n",
       "    }\n",
       "\n",
       "    .dataframe tbody tr th {\n",
       "        vertical-align: top;\n",
       "    }\n",
       "\n",
       "    .dataframe thead th {\n",
       "        text-align: right;\n",
       "    }\n",
       "</style>\n",
       "<table border=\"1\" class=\"dataframe\">\n",
       "  <thead>\n",
       "    <tr style=\"text-align: right;\">\n",
       "      <th></th>\n",
       "      <th>pmf(x)</th>\n",
       "    </tr>\n",
       "  </thead>\n",
       "  <tbody>\n",
       "    <tr>\n",
       "      <th>0</th>\n",
       "      <td>2.015561e-01</td>\n",
       "    </tr>\n",
       "    <tr>\n",
       "      <th>1</th>\n",
       "      <td>3.501209e-01</td>\n",
       "    </tr>\n",
       "    <tr>\n",
       "      <th>2</th>\n",
       "      <td>2.736861e-01</td>\n",
       "    </tr>\n",
       "    <tr>\n",
       "      <th>3</th>\n",
       "      <td>1.267779e-01</td>\n",
       "    </tr>\n",
       "    <tr>\n",
       "      <th>4</th>\n",
       "      <td>3.853929e-02</td>\n",
       "    </tr>\n",
       "    <tr>\n",
       "      <th>5</th>\n",
       "      <td>8.033542e-03</td>\n",
       "    </tr>\n",
       "    <tr>\n",
       "      <th>6</th>\n",
       "      <td>1.162915e-03</td>\n",
       "    </tr>\n",
       "    <tr>\n",
       "      <th>7</th>\n",
       "      <td>1.154335e-04</td>\n",
       "    </tr>\n",
       "    <tr>\n",
       "      <th>8</th>\n",
       "      <td>7.519439e-06</td>\n",
       "    </tr>\n",
       "    <tr>\n",
       "      <th>9</th>\n",
       "      <td>2.902652e-07</td>\n",
       "    </tr>\n",
       "    <tr>\n",
       "      <th>10</th>\n",
       "      <td>5.042166e-09</td>\n",
       "    </tr>\n",
       "  </tbody>\n",
       "</table>\n",
       "</div>"
      ],
      "text/plain": [
       "          pmf(x)\n",
       "0   2.015561e-01\n",
       "1   3.501209e-01\n",
       "2   2.736861e-01\n",
       "3   1.267779e-01\n",
       "4   3.853929e-02\n",
       "5   8.033542e-03\n",
       "6   1.162915e-03\n",
       "7   1.154335e-04\n",
       "8   7.519439e-06\n",
       "9   2.902652e-07\n",
       "10  5.042166e-09"
      ]
     },
     "execution_count": 23,
     "metadata": {},
     "output_type": "execute_result"
    }
   ],
   "source": [
    "import pandas\n",
    "df = pandas.DataFrame({'pmf(x)': pmf})\n",
    "df.head(11)"
   ]
  },
  {
   "cell_type": "code",
   "execution_count": 24,
   "metadata": {},
   "outputs": [
    {
     "data": {
      "text/plain": [
       "pmf(x)    1.0\n",
       "dtype: float64"
      ]
     },
     "execution_count": 24,
     "metadata": {},
     "output_type": "execute_result"
    }
   ],
   "source": [
    "df.sum()"
   ]
  },
  {
   "cell_type": "code",
   "execution_count": 25,
   "metadata": {},
   "outputs": [
    {
     "name": "stdout",
     "output_type": "stream",
     "text": [
      "0\n"
     ]
    }
   ],
   "source": [
    "import numpy as np\n",
    "np.random.seed(123456)\n",
    "from scipy.stats import binom\n",
    "n = 10\n",
    "p = 0.148\n",
    "rv = binom.rvs(n, p)\n",
    "print(rv)"
   ]
  },
  {
   "cell_type": "code",
   "execution_count": 26,
   "metadata": {},
   "outputs": [
    {
     "data": {
      "text/plain": [
       "array([ 0,  1,  2,  3,  4,  5,  6,  7,  8,  9, 10])"
      ]
     },
     "execution_count": 26,
     "metadata": {},
     "output_type": "execute_result"
    }
   ],
   "source": [
    "x"
   ]
  },
  {
   "cell_type": "code",
   "execution_count": 27,
   "metadata": {},
   "outputs": [],
   "source": [
    "rvs = np.array([binom.rvs(n,p) for sample in range(100)])"
   ]
  },
  {
   "cell_type": "code",
   "execution_count": 28,
   "metadata": {},
   "outputs": [
    {
     "data": {
      "text/plain": [
       "array([4, 1, 3, 1, 1, 1, 3, 0, 1, 1, 1, 0, 3, 2, 1, 1, 2, 2, 0, 3, 1, 0,\n",
       "       2, 2, 0, 2, 1, 1, 4, 3, 0, 3, 2, 1, 1, 0, 1, 2, 1, 1, 3, 1, 2, 0,\n",
       "       2, 1, 1, 2, 0, 0, 2, 0, 1, 0, 1, 3, 3, 2, 2, 2, 1, 0, 0, 3, 0, 2,\n",
       "       2, 1, 0, 3, 2, 0, 2, 0, 1, 3, 0, 1, 2, 2, 1, 2, 2, 1, 1, 4, 4, 1,\n",
       "       2, 1, 4, 2, 0, 1, 0, 1, 2, 2, 1, 5])"
      ]
     },
     "execution_count": 28,
     "metadata": {},
     "output_type": "execute_result"
    }
   ],
   "source": [
    "rvs"
   ]
  },
  {
   "cell_type": "code",
   "execution_count": 29,
   "metadata": {},
   "outputs": [
    {
     "data": {
      "text/plain": [
       "array([0.21, 0.34, 0.27, 0.12, 0.05, 0.01])"
      ]
     },
     "execution_count": 29,
     "metadata": {},
     "output_type": "execute_result"
    }
   ],
   "source": [
    "np.bincount(rvs)/100"
   ]
  },
  {
   "cell_type": "markdown",
   "metadata": {},
   "source": [
    "### Poisson\n",
    "A Poisson random variable is used to model event processes, where the events occur in some temporal or spatial interval, such that process  meet the following criteria\n",
    "\n",
    "1. Events are **independent** of each other - meaning the occurrence of one event does not affect the probability that another event will occur.\n",
    "2. The average rate (events occuring in the interval) is constant.\n",
    "3. Two events cannot occur at the same moment or place in space.\n",
    "\n",
    "For a Poisson random variable, $X$ is the number of events that occur in the interval and $\\lambda$ is the **process intensity**. This is a single parameter distribution:"
   ]
  },
  {
   "cell_type": "markdown",
   "metadata": {},
   "source": [
    "#### Probability Mass Function\n",
    "\n",
    "$$\n",
    "p(x) = e^{-\\lambda} \\frac{\\lambda^x}{x!}\n",
    "$$"
   ]
  },
  {
   "cell_type": "code",
   "execution_count": 30,
   "metadata": {},
   "outputs": [
    {
     "data": {
      "image/png": "[encoded data removed]",
      "text/plain": [
       "<Figure size 432x288 with 1 Axes>"
      ]
     },
     "metadata": {},
     "output_type": "display_data"
    }
   ],
   "source": [
    "from scipy.stats import poisson\n",
    "lam = 2\n",
    "n = 10\n",
    "x = np.arange(0, n+1)\n",
    "rv = poisson(lam)\n",
    "pmf = rv.pmf(x)\n",
    "fig, ax = plt.subplots(1, 1)\n",
    "\n",
    "ax.vlines(x, 0, pmf, colors='b', lw=5, alpha=0.5)\n",
    "_ = plt.xlabel('x')\n",
    "_ = plt.ylabel('p(x)')\n",
    "\n"
   ]
  },
  {
   "cell_type": "markdown",
   "metadata": {},
   "source": [
    "#### Exepcted Value\n",
    "\n",
    "$$\n",
    "E[X] = \\lambda\n",
    "$$"
   ]
  },
  {
   "cell_type": "markdown",
   "metadata": {},
   "source": [
    "#### Variance\n",
    "\n",
    "$$\n",
    "V[X] = \\lambda\n",
    "$$"
   ]
  },
  {
   "cell_type": "markdown",
   "metadata": {},
   "source": [
    "#### Example\n",
    "\n",
    "Number of emergency room visits by an individual in a community over the course of a year."
   ]
  },
  {
   "cell_type": "code",
   "execution_count": 31,
   "metadata": {},
   "outputs": [],
   "source": [
    "x = poisson.rvs(lam, size=100)"
   ]
  },
  {
   "cell_type": "code",
   "execution_count": 32,
   "metadata": {},
   "outputs": [
    {
     "data": {
      "text/plain": [
       "array([0, 1, 1, 3, 1, 2, 3, 1, 3, 2, 4, 3, 0, 2, 0, 3, 6, 4, 0, 3, 2, 1,\n",
       "       1, 2, 3, 4, 2, 2, 3, 2, 3, 2, 3, 0, 2, 3, 2, 2, 0, 3, 3, 1, 1, 2,\n",
       "       5, 2, 2, 1, 0, 1, 3, 2, 5, 1, 1, 1, 2, 4, 4, 1, 3, 4, 0, 5, 1, 2,\n",
       "       2, 2, 4, 0, 2, 0, 3, 0, 2, 3, 3, 1, 1, 2, 3, 1, 3, 2, 3, 1, 1, 2,\n",
       "       2, 2, 2, 2, 2, 1, 3, 2, 4, 2, 1, 1])"
      ]
     },
     "execution_count": 32,
     "metadata": {},
     "output_type": "execute_result"
    }
   ],
   "source": [
    "x"
   ]
  },
  {
   "cell_type": "code",
   "execution_count": 33,
   "metadata": {},
   "outputs": [],
   "source": [
    "import seaborn as sns"
   ]
  },
  {
   "cell_type": "code",
   "execution_count": 34,
   "metadata": {},
   "outputs": [
    {
     "data": {
      "text/plain": [
       "<AxesSubplot:>"
      ]
     },
     "execution_count": 34,
     "metadata": {},
     "output_type": "execute_result"
    },
    {
     "data": {
      "image/png": "[encoded data removed]",
      "text/plain": [
       "<Figure size 432x288 with 1 Axes>"
      ]
     },
     "metadata": {},
     "output_type": "display_data"
    }
   ],
   "source": [
    "sns.distplot(x, kde=False)"
   ]
  },
  {
   "cell_type": "markdown",
   "metadata": {},
   "source": [
    "#### Notes\n",
    "\n",
    "The Poisson distribution is a special case of the Binomial distribution as $n$ goes to infinity."
   ]
  },
  {
   "cell_type": "markdown",
   "metadata": {},
   "source": [
    "### Uniform"
   ]
  },
  {
   "cell_type": "markdown",
   "metadata": {},
   "source": [
    "## Gaussian"
   ]
  },
  {
   "cell_type": "code",
   "execution_count": 36,
   "metadata": {},
   "outputs": [
    {
     "data": {
      "image/png": "[encoded data removed]",
      "text/plain": [
       "<Figure size 432x288 with 1 Axes>"
      ]
     },
     "metadata": {},
     "output_type": "display_data"
    }
   ],
   "source": [
    "import matplotlib.pyplot as plt\n",
    "mu=10\n",
    "variance=4\n",
    "sigma=np.sqrt(variance)\n",
    "x = np.linspace(mu - 3*sigma, mu + 3 * sigma, 100)\n",
    "plt.plot(x, stats.norm.pdf(x, mu, sigma))\n",
    "plt.show()"
   ]
  },
  {
   "cell_type": "code",
   "execution_count": null,
   "metadata": {},
   "outputs": [],
   "source": []
  },
  {
   "cell_type": "markdown",
   "metadata": {},
   "source": [
    "Misc"
   ]
  },
  {
   "cell_type": "markdown",
   "metadata": {},
   "source": [
    " \\ k \\in \\left{0,1,\\ldots,n \\right}"
   ]
  }
 ],
 "metadata": {
  "kernelspec": {
   "display_name": "Python 3",
   "language": "python",
   "name": "python3"
  },
  "language_info": {
   "codemirror_mode": {
    "name": "ipython",
    "version": 3
   },
   "file_extension": ".py",
   "mimetype": "text/x-python",
   "name": "python",
   "nbconvert_exporter": "python",
   "pygments_lexer": "ipython3",
   "version": "3.7.8"
  }
 },
 "nbformat": 4,
 "nbformat_minor": 4
}
